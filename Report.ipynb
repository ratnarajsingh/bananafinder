{
 "cells": [
  {
   "cell_type": "markdown",
   "metadata": {},
   "source": [
    "## Implementation details\n",
    "\n",
    "There are three important files\n",
    "1. __Navigatio_DQN.ipynb__ - contains the training implementation\n",
    "2. __model/dqn_agent.py__ - DQN implementaiton\n",
    "3. __model/model.py__ - neural netowrk definition used by DQN agent"
   ]
  },
  {
   "cell_type": "markdown",
   "metadata": {},
   "source": [
    "### Learning algorithm\n",
    "The agent uses DQN algorithm to learn to solve the environment. Its on improvement over previously used Q learning alrogithm as \n",
    "it uses a neural network as a function approximator for state and action space. Details of the implementation are found [here](https://web.stanford.edu/class/psych209/Readings/MnihEtAlHassibis15NatureControlDeepRL.pdf)\n",
    "\n",
    "Basic algorithm looks like this\n",
    "\n",
    "<img src='images/DQN_algo.png' style='height:200px' />"
   ]
  },
  {
   "cell_type": "markdown",
   "metadata": {},
   "source": [
    "Its a model free implementation. \n",
    "* Initialize environment\n",
    "* Iteration (Q learning) for M epochs\n",
    "    * Select an action (via agent), epsilon greedy\n",
    "    * Execute action and obtain the rewards and next state\n",
    "    * Store the transaction in a replay buffer\n",
    "    * Sample a small batch, randomly, from replay buffer\n",
    "    * Learn from this minibatch of experience by\n",
    "        * Calculating the local and target value of the network (the action value)\n",
    "        * Perform gradient descent, optimizing the loss as the MSE of local and target netowrk values\n",
    "    * Update the target using soft approach"
   ]
  },
  {
   "cell_type": "markdown",
   "metadata": {},
   "source": [
    "### Architecture of the neural netowrk\n",
    "Its pretty straightforward. I'm using a 3 layer deep neural netowrk, implemented in pytorch and saved in model/model.py\n",
    "1. Layer 1 = 37 input units to a default of 128 units\n",
    "2. Layer 2 = Layer 1 units to a default of 128 units\n",
    "3. Output layer = Layer 2 units the final action space of 5"
   ]
  },
  {
   "cell_type": "markdown",
   "metadata": {},
   "source": [
    "#### Output plot\n",
    "![](images/plot.png)"
   ]
  },
  {
   "cell_type": "code",
   "execution_count": null,
   "metadata": {},
   "outputs": [],
   "source": []
  }
 ],
 "metadata": {
  "kernelspec": {
   "display_name": "Python 3",
   "language": "python",
   "name": "python3"
  },
  "language_info": {
   "codemirror_mode": {
    "name": "ipython",
    "version": 3
   },
   "file_extension": ".py",
   "mimetype": "text/x-python",
   "name": "python",
   "nbconvert_exporter": "python",
   "pygments_lexer": "ipython3",
   "version": "3.7.4"
  }
 },
 "nbformat": 4,
 "nbformat_minor": 4
}
